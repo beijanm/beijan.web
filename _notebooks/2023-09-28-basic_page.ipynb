{
 "cells": [
  {
   "cell_type": "code",
   "execution_count": null,
   "metadata": {
    "vscode": {
     "languageId": "html"
    }
   },
   "outputs": [],
   "source": [
    "\n",
    "<!DOCTYPE html>\n",
    "<html>\n",
    "<head>\n",
    "  <title>Beijan's Webpage</title>\n",
    "</head>\n",
    "<body>\n",
    "  <div id=\"container\">\n",
    "    <button>Click Me</button>\n",
    "    <div id=\"links\">\n",
    "    <a href=\"https://github.com/beijanm\" title=\"My Github\">Github</a>\n",
    "    <a href=\"https://github.com/beijanm/beijan.web\" title=\"Main Repository\">Github</a>\n",
    "  </div>\n",
    "</body>\n",
    "</html>"
   ]
  }
 ],
 "metadata": {
  "language_info": {
   "name": "python"
  },
  "orig_nbformat": 4
 },
 "nbformat": 4,
 "nbformat_minor": 2
}
