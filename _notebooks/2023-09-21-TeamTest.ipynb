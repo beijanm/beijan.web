{
 "cells": [
  {
   "cell_type": "markdown",
   "metadata": {},
   "source": [
    "---\n",
    "toc: true\n",
    "comments: false\n",
    "layout: post\n",
    "title: Team Test\n",
    "description: Example Blog!!!  This shows planning and notes from hacks.\n",
    "type: tangibles\n",
    "courses: { compsci: {week: 3} }\n",
    "---"
   ]
  },
  {
   "cell_type": "code",
   "execution_count": 1,
   "metadata": {},
   "outputs": [
    {
     "name": "stdout",
     "output_type": "stream",
     "text": [
      "Hello, World!\n"
     ]
    }
   ],
   "source": [
    "print(\"Hello, World!\")"
   ]
  },
  {
   "cell_type": "markdown",
   "metadata": {},
   "source": []
  },
  {
   "cell_type": "code",
   "execution_count": 2,
   "metadata": {},
   "outputs": [
    {
     "name": "stdout",
     "output_type": "stream",
     "text": [
      "Double of 2.0 is 4.0\n"
     ]
    }
   ],
   "source": [
    "user_input = input(\"Enter a number: \")\n",
    "\n",
    "try:\n",
    "    # Convert the user's input to a float\n",
    "    user_number = float(user_input)\n",
    "    \n",
    "    # Perform a simple calculation\n",
    "    result = user_number * 2\n",
    "    \n",
    "    # Print the result\n",
    "    print(f\"Double of {user_number} is {result}\")\n",
    "except ValueError:\n",
    "    print(\"Invalid input. Please enter a valid number.\")"
   ]
  },
  {
   "cell_type": "code",
   "execution_count": 3,
   "metadata": {},
   "outputs": [
    {
     "name": "stdout",
     "output_type": "stream",
     "text": [
      "Original list: [2, 3, 4]\n",
      "Modified list (squared): [4, 9, 16]\n"
     ]
    }
   ],
   "source": [
    "input_str = input(\"Enter a list of numbers separated by commas: \")\n",
    "\n",
    "# Split the input string into a list of strings\n",
    "number_strings = input_str.split(',')\n",
    "\n",
    "# Initialize an empty list to store the converted numbers\n",
    "numbers = []\n",
    "\n",
    "try:\n",
    "    # Convert the strings to integers and add them to the 'numbers' list\n",
    "    for num_str in number_strings:\n",
    "        num = int(num_str)\n",
    "        numbers.append(num)\n",
    "    \n",
    "    # Perform a modification on the list (e.g., squaring each number)\n",
    "    modified_numbers = [num ** 2 for num in numbers]\n",
    "    \n",
    "    # Print the modified list\n",
    "    print(\"Original list:\", numbers)\n",
    "    print(\"Modified list (squared):\", modified_numbers)\n",
    "except ValueError:\n",
    "    print(\"Invalid input. Please enter a list of valid numbers separated by commas.\")"
   ]
  },
  {
   "cell_type": "code",
   "execution_count": 4,
   "metadata": {},
   "outputs": [
    {
     "name": "stdout",
     "output_type": "stream",
     "text": [
      "Average: 3.0\n"
     ]
    }
   ],
   "source": [
    "# Get user input for a list of numbers (comma-separated)\n",
    "input_str = input(\"Enter a list of numbers separated by commas: \")\n",
    "\n",
    "# Split the input string into a list of strings\n",
    "number_strings = input_str.split(',')\n",
    "\n",
    "# Initialize an empty list to store the converted numbers\n",
    "numbers = []\n",
    "\n",
    "try:\n",
    "    # Convert the strings to integers and add them to the 'numbers' list\n",
    "    for num_str in number_strings:\n",
    "        num = int(num_str)\n",
    "        numbers.append(num)\n",
    "    \n",
    "    # Calculate the sum of numbers using iteration\n",
    "    total = 0\n",
    "    for num in numbers:\n",
    "        total += num\n",
    "    \n",
    "    # Calculate the average\n",
    "    average = total / len(numbers)\n",
    "    \n",
    "    # Print the average\n",
    "    print(\"Average:\", average)\n",
    "except ValueError:\n",
    "    print(\"Invalid input. Please enter a list of valid numbers separated by commas.\")\n"
   ]
  },
  {
   "cell_type": "code",
   "execution_count": 5,
   "metadata": {},
   "outputs": [
    {
     "name": "stdout",
     "output_type": "stream",
     "text": [
      "Calculations:\n",
      "Sum: 9.0\n",
      "Mean: 3.0\n",
      "Median: 3.0\n",
      "Standard Deviation: 1.0\n"
     ]
    }
   ],
   "source": [
    "import statistics\n",
    "\n",
    "# Define a function to perform calculations\n",
    "def calculate_statistics(numbers):\n",
    "    # Calculate the sum\n",
    "    total = sum(numbers)\n",
    "    \n",
    "    # Calculate the mean (average)\n",
    "    mean = total / len(numbers)\n",
    "    \n",
    "    # Calculate the median\n",
    "    median = statistics.median(numbers)\n",
    "    \n",
    "    # Calculate the standard deviation\n",
    "    std_dev = statistics.stdev(numbers)\n",
    "    \n",
    "    # Return the results as a dictionary\n",
    "    results = {\n",
    "        \"Sum\": total,\n",
    "        \"Mean\": mean,\n",
    "        \"Median\": median,\n",
    "        \"Standard Deviation\": std_dev\n",
    "    }\n",
    "    \n",
    "    return results\n",
    "\n",
    "# Get user input for a list of numbers (comma-separated)\n",
    "input_str = input(\"Enter a list of numbers separated by commas: \")\n",
    "\n",
    "# Split the input string into a list of strings\n",
    "number_strings = input_str.split(',')\n",
    "\n",
    "# Initialize an empty list to store the converted numbers\n",
    "numbers = []\n",
    "\n",
    "try:\n",
    "    # Convert the strings to floats and add them to the 'numbers' list\n",
    "    for num_str in number_strings:\n",
    "        num = float(num_str)\n",
    "        numbers.append(num)\n",
    "    \n",
    "    # Call the function to calculate statistics\n",
    "    results = calculate_statistics(numbers)\n",
    "    \n",
    "    # Print the results\n",
    "    print(\"Calculations:\")\n",
    "    for key, value in results.items():\n",
    "        print(f\"{key}: {value}\")\n",
    "except ValueError:\n",
    "    print(\"Invalid input. Please enter a list of valid numbers separated by commas.\")\n"
   ]
  },
  {
   "cell_type": "code",
   "execution_count": 6,
   "metadata": {},
   "outputs": [
    {
     "name": "stdout",
     "output_type": "stream",
     "text": [
      "10 is even.\n"
     ]
    }
   ],
   "source": [
    "# Get user input for a number\n",
    "user_input = input(\"Enter a number: \")\n",
    "\n",
    "try:\n",
    "    # Convert the user's input to an integer\n",
    "    user_number = int(user_input)\n",
    "    \n",
    "    # Check if the number is even or odd\n",
    "    if user_number % 2 == 0:\n",
    "        print(f\"{user_number} is even.\")\n",
    "    else:\n",
    "        print(f\"{user_number} is odd.\")\n",
    "except ValueError:\n",
    "    print(\"Invalid input. Please enter a valid number.\")\n"
   ]
  }
 ],
 "metadata": {
  "kernelspec": {
   "display_name": "Python 3",
   "language": "python",
   "name": "python3"
  },
  "language_info": {
   "codemirror_mode": {
    "name": "ipython",
    "version": 3
   },
   "file_extension": ".py",
   "mimetype": "text/x-python",
   "name": "python",
   "nbconvert_exporter": "python",
   "pygments_lexer": "ipython3",
   "version": "3.9.6"
  },
  "orig_nbformat": 4
 },
 "nbformat": 4,
 "nbformat_minor": 2
}
