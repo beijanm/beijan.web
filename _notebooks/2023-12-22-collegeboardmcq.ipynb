{
 "cells": [
  {
   "cell_type": "markdown",
   "metadata": {},
   "source": [
    "---\n",
    "toc: true\n",
    "comments: true\n",
    "layout: post\n",
    "title: 2020 Collegeboard MCQ Review\n",
    "courses: { compsci: {week: 17} }\n",
    "type: hacks\n",
    "---"
   ]
  },
  {
   "cell_type": "markdown",
   "metadata": {},
   "source": [
    "# MCQ Review\n",
    "## My Score: 61/67\n",
    "## My Learning Journey\n",
    "\n",
    "- Overview: Working through the AP Computer Science Principles multiple-choice questions has been a beneficial learning experience. These questions, which covered a large amount of topics from the basic code to more complex computer science concepts, have been key to expanding my understanding in the subject. Each question strengthened my vocabulary and knowledge of this subject.\n",
    "\n",
    "- What Helped: I say terminology being used from team teaches which helped me be able to understand the question a bit better because of the background information from said team teaches. I assume that I got a better score on this MCQ compared to my previous one because of sheer experience. My first one was a new experience but now I am getting in the groove of taking these kinds of tests. A tool I utilized when I was stuck was Chat-GPT which aided in explaining the question more in depth and allowing for a deeper understanding. Talking to peers was also essential in my learning journey as two minds are better than one and I was also able to hear another perspective of the questions."
   ]
  },
  {
   "cell_type": "markdown",
   "metadata": {},
   "source": [
    "## Test Corrections\n",
    "- Q11: The question is asking to identify a color from a given binary RGB triplet. Each binary number in the triplet represents a decimal value that corresponds to a color in the table. The binary numbers (11111111, 11111111, 11110000) convert to decimal as (255, 255, 240). Looking at the table, the decimal triplet (255, 255, 240) matches A(ivory) but I chose incorrectly.\n",
    "\n",
    "- Q47: The binary search algorithm requires the list to be sorted to work properly. The value of the target doesn't affect the algorithm's ability to search. The correct condition is that the list must be sorted, not that the target value must not be -1.\n",
    "\n",
    "- Q48: This question talks about the situation that best simplifies phishing attacks. The correct answer is C which talks about sending an email for technical support which makes the most sence because it is very easy for older people to fall for that are not very tach savy.\n",
    "\n",
    "- Q50: This question is about operating on a list with large integers. All three algorithms can work fast enough. Algorithm I goes through the list twice, which is okay. Algorithm II could work if the list isn't too big. Algorithm III is quick because it only checks the first 10 things no matter what. So, the right answer is D, all of them are fine."
   ]
  },
  {
   "cell_type": "markdown",
   "metadata": {},
   "source": [
    "## Final Thoughts\n",
    "- I though that this quiz was very beneficial for my learning as we dont do much of this kind of stuff in class and this is really the only time that I am able to prepare for the AP exam. I appreciate that this is also about the team teaches as well so that I am able to use background information."
   ]
  }
 ],
 "metadata": {
  "language_info": {
   "name": "python"
  },
  "orig_nbformat": 4
 },
 "nbformat": 4,
 "nbformat_minor": 2
}
