{
 "cells": [
  {
   "cell_type": "markdown",
   "metadata": {
    "vscode": {
     "languageId": "plaintext"
    }
   },
   "source": [
    "---\n",
    "toc: true\n",
    "comments: true\n",
    "layout: post\n",
    "title: DataStructures Writeup\n",
    "courses: { csp: {week: 16} }\n",
    "type: hacks\n",
    "permalink: writeup\n",
    "---\n"
   ]
  },
  {
   "cell_type": "markdown",
   "metadata": {},
   "source": [
    "\n",
    "- From VSCode using SQLite3 Editor, show your unique collection/table in database, display rows and columns in the table   of the SQLite database.\n",
    "This database consists of questions and responses in which I have categorized as \"notes\"\n",
    "\n",
    "<img src=\"https://drishyamody.github.io/student2/images/databaseCollabora.png\" height=\"500\" width=\"1000\">  \n",
    "\n",
    "- From VSCode model, show your unique code that was created to initialize table and create test data.\n",
    "\n",
    "<img src=\"https://drishyamody.github.io/student2/images/modelCode.png\" height=\"500\" width=\"1000\">  \n"
   ]
  },
  {
   "cell_type": "markdown",
   "metadata": {},
   "source": [
    "Lists and Dictionaries\n",
    "Blog Python API code and use of List and Dictionaries.\n",
    "\n",
    "- In VSCode using Debugger, show a list as extracted from database as Python objects.\n",
    "- In VSCode use Debugger and list, show two distinct example examples of dictionaries, show Keys/Values using debugger.\n",
    "The data shown in the debugger terminal is data passed through a post request. IN this case simulating someone asking a question, this is a very similar concept for replying to a question. \n",
    "\n",
    "Keys are the purple values on the left hand side of the debugger terminal while its values are the orange text besides it representing the user input for a question in context.\n",
    "\n",
    "<img src=\"https://drishyamody.github.io/student2/images/vscodevariablething.png\" height=\"500\" width=\"1000\">  \n",
    "\n"
   ]
  },
  {
   "cell_type": "markdown",
   "metadata": {},
   "source": [
    "APIs and JSON\n",
    "Blog Python API code and use of Postman to request and respond with JSON.\n",
    "\n",
    "- In VSCode, show Python API code definition for request and response using GET, POST, UPDATE methods. Discuss algorithmic condition used to direct request to appropriate Python method based on request method.\n",
    "\n",
    "GET: I have applied the GET method in the research aspect of my feature. When a user searches for a question with a key word using the GET method and with query syntax to apply the condition of finding database data with the key word inputted by the user all questions with the users key word are displayed in a user acceptable form.\n",
    "\n",
    "POST: I have applied the POST method in the asking questions and replying to questions aspect of my feature. When the user asks a question or replys to a question the POST method is called. This is something I want to work on as I have found that all replys and questions are stored in the same column on my database as shown above. I aim to find a way to differentiate the replys and questions to acheive the most organized data possible.\n",
    "\n",
    "PUT: I have applied the PUT method in the user information aspect of my CPT. The user can change their DOB, UID, NAME. This has not yet been implemented into my groups integrated CPT project as it was causing a lot errors. This has been moved up our priority list right under seperating our code files seperately! As I was completing the writeup I decided that I want to do my best to implement the concept of PUT and UPDATE methods into my questions so that a user can update its question, this is definetely something I look forward to researching and completeing.\n",
    "\n",
    "<img src=\"https://drishyamody.github.io/student2/images/getCRUD.png\" height=\"500\" width=\"1000\">  \n",
    "<img src=\"https://drishyamody.github.io/student2/images/postCRUD.png\" height=\"500\" width=\"1000\">  \n",
    "<img src=\"https://drishyamody.github.io/student2/images/putCRUD.png\" height=\"500\" width=\"1000\">  \n",
    "\n",
    "- In VSCode, show algorithmic conditions used to validate data on a POST condition.\n",
    "These are two basic conditions I applied to ensure the validity of posts, specifically questions and replys. I applied the condition that any post whether it be question or reply must be at least 5 characters to ensure that they are of true substance. Also ensured that the user ID was more than 2 characters as it tends to be easily forgettable if it is short in my personal experience. \n",
    "\n",
    "<img src=\"https://drishyamody.github.io/student2/images/validityWriteups.png\" height=\"400\" width=\"1000\">  \n",
    "\n",
    "- In Postman, show URL request and Body requirements for GET, POST, and UPDATE methods.\n",
    "- In Postman, show the JSON response data for 200 success conditions on GET, POST, and UPDATE methods.\n",
    "\n",
    "POST: Sends a question or reply to a question, in this postman request I sent a question to the database as sample testing data. \n",
    "\n",
    "GET: This postman request retreived all data from the database under posts. I have also coded the model to except keywords. This enables the user to search for keywords rather than a specific question. \n",
    "\n",
    "PUT: In the URL I provided the id of the user I wanted to change information for, given this it changed UID 13 to the data I provided in the body\n",
    "\n",
    "<img src=\"https://drishyamody.github.io/student2/images/postRequest.png\" height=\"500\" width=\"1000\">  \n",
    "<img src=\"https://drishyamody.github.io/student2/images/getRequest.png\" height=\"500\" width=\"1000\">  \n",
    "<img src=\"https://drishyamody.github.io/student2/images/putRequest.png\" height=\"500\" width=\"1000\">  \n",
    "\n",
    "- In Postman, show the JSON response for error for 400 when missing body on a POST request.\n",
    "\n",
    "<img src=\"https://drishyamody.github.io/student2/images/400error.png\" height=\"500\" width=\"1000\">  \n",
    "\n",
    "- In Postman, show the JSON response for error for 404 when providing an unknown user ID to a UPDATE request.\n",
    "Provided an ID of a supposed user that does not exist in the database. Provided this ID in the url. \n",
    "\n",
    "<img src=\"https://drishyamody.github.io/student2/images/404error.png\" height=\"500\" width=\"1000\">  \n"
   ]
  },
  {
   "cell_type": "markdown",
   "metadata": {
    "vscode": {
     "languageId": "plaintext"
    }
   },
   "source": [
    "Frontend\n",
    "Blog JavaScript API fetch code and formatting code to display JSON.\n",
    "\n",
    "- In Chrome inspect, show response of JSON objects from fetch of GET, POST, and UPDATE methods.\n",
    "\n",
    "POST\n",
    "\n",
    "<img src=\"https://drishyamody.github.io/student2/images/inspectelement1.png\" height=\"500\" width=\"1000\">  \n",
    "\n",
    "GET\n",
    "\n",
    "<img src=\"https://drishyamody.github.io/student2/images/inspectelement2.png\" height=\"500\" width=\"1000\">  \n",
    "\n",
    "UPDATE\n",
    "<img src=\"https://drishyamody.github.io/student2/images/lastPUT.png\" height=\"500\" width=\"1000\">  \n",
    "\n",
    "- In the Chrome browser, show a demo (GET) of obtaining an Array of JSON objects that are formatted into the browsers screen.\n",
    "<img src=\"https://drishyamody.github.io/student2/images/inspectelement3.png\" height=\"500\" width=\"1000\">  \n",
    "\n",
    "\n",
    "- In JavaScript code, describe fetch and method that obtained the Array of JSON objects.\n",
    "Called the function \"topicSearch\" as a convenient name for me to find when I feel like something needs to be edited in the GET and searching aspect. After declaring which method I wanted to use\n",
    "\n"
   ]
  },
  {
   "cell_type": "markdown",
   "metadata": {},
   "source": [
    "```\n",
    "function topicSearch() {\n",
    "    const enteredTopic = document.getElementById(\"search-input\").value;\n",
    "\n",
    "    var myHeaders = new Headers();\n",
    "    myHeaders.append(\"Content-Type\", \"application/json\");\n",
    "    \n",
    "    var requestOptions = {\n",
    "        method: 'GET',\n",
    "        headers: myHeaders,\n",
    "        redirect: 'follow'\n",
    "    };\n",
    "\n",
    "    fetch(\"http://127.0.0.1:8086/api/post/?searchString=\" + enteredTopic, requestOptions)\n",
    "        .then(response => {\n",
    "            if (response.ok) {\n",
    "                console.log(enteredTopic + \" has been searched\");\n",
    "                return response.json(); // Parse the JSON in the response body\n",
    "            } else {\n",
    "                console.error(\"Search failed\");\n",
    "                const errorMessageDiv = document.getElementById('errorMessage');\n",
    "                errorMessageDiv.innerHTML = '<label style=\"color: red;\">Search Failed</label>';\n",
    "                throw new Error('Search failed');\n",
    "            }\n",
    "        })\n",
    "        .then(data => {\n",
    "            // Here 'data' is the parsed JSON object from the response body\n",
    "            console.log(data); // You can see your fetched data here\n",
    "            createTableFromJSON(data); // Assuming 'createTableFromJSON' expects the JSON data as parameter\n",
    "        })\n",
    "        .catch(error => {\n",
    "            // Handle any errors that occurred during the fetch() or in the promise chain\n",
    "            console.error('Error:', error);\n",
    "        });\n",
    "}\n",
    "```"
   ]
  },
  {
   "cell_type": "markdown",
   "metadata": {
    "vscode": {
     "languageId": "plaintext"
    }
   },
   "source": [
    "- In JavaScript code, show code that performs iteration and formatting of data into HTML.\n",
    "```\n",
    "              .then(data => {\n",
    "            // Here 'data' is the parsed JSON object from the response body\n",
    "            console.log(data); // You can see your fetched data here\n",
    "             createTableFromJSON(data); // Assuming 'createTableFromJSON' expects the JSON data as parameter\n",
    "         })\n",
    "         .catch(error => {\n",
    "             // Handle any errors that occurred during the fetch() or in the promise chain\n",
    "             console.error('Error:', error);\n",
    "        });\n",
    "```\n",
    "- In the Chrome browser, show a demo (POST or UPDATE) gathering and sending input and receiving a response that show update. Repeat this demo showing both success and failure.\n",
    "\n",
    "FAILURE\n",
    "\n",
    "<img src=\"https://drishyamody.github.io/student2/images/postFailure.png\" height=\"500\" width=\"1000\">  \n",
    "\n",
    "SUCCESS\n",
    "\n",
    "<img src=\"https://drishyamody.github.io/student2/images/postSuccess.png\" height=\"500\" width=\"1000\">  \n",
    "\n",
    "\n",
    "- In JavaScript code, show and describe code that handles success. Describe how code shows success to the user in the Chrome Browser screen.\n",
    "In this scenario I thought it would be best to address this aspect of coding with a post request. As shown in the code segment below there is the \"if (response.ok) which is an if statement that ensures the validitiy of the response and make sure it aligns with the expected output. If this condition is met of a valid response the user is alerted that their question has been received and they will receieve a response soon. We also log a fairly similar message in the console. \n",
    "```\n",
    "   fetch(\"http://127.0.0.1:8086/api/post/\", requestOptions)\n",
    "        .then(response => {\n",
    "            if (response.ok) {\n",
    "                console.log(\"Question Received\");\n",
    "                alert(\"Question has been sent, you will receive a response soon.\");\n",
    "              } \n",
    "              }\n",
    "          )\n",
    "```\n",
    "- In JavaScript code, show and describe code that handles failure. Describe how the code shows failure to the user in the Chrome Browser screen.\n",
    "This code again refers to the condition in the code segment above that says \"if (response.ok)\" if for some reason this condition is met the error message is displayed as Question creation failed to the user but the true reason behind the error can be viewed in the network tab of inspect element. I belive it might also be beneficial to add an alert that in detail describes why their error occurred, this is something I will definetely add in the future. \n",
    "```\n",
    "else {\n",
    "                console.error(\"Question creation failed\");\n",
    "                \n",
    "                const errorMessageDiv = document.getElementById('errorMessage');\n",
    "                errorMessageDiv.innerHTML = '<label style=\"color: red;\">Question Creation Failed</label>';}\n",
    "```"
   ]
  },
  {
   "cell_type": "markdown",
   "metadata": {},
   "source": [
    "After working on the personal machine learning projects I learnt the value of LINEAR REGRESSION and DECISION TREE algorithms\n",
    "\n",
    "Linear regression: This refers to something known as the line of best fit. Me taking AP statistics I have basic knowledge on its functionality but learning how to implement this in machine learning showed me a new perspective of its functionality. This isnt always the most accurate form of prediciotn as it always assumes a linear rleationship\n",
    "<img src=\"https://drishyamody.github.io/student2/images/linearRegression.png\" height=\"500\" width=\"1000\">  \n",
    "\n",
    "Decision trees:  At each point where the tree splits into branches (these points are called nodes), a decision is made. This decision is usually a question or condition about the data. To build a decision tree, the system learns from past data. For me, It looks at historical stock patterns, for example, to determine the most effective predict stock patterns.\n",
    "<img src=\"https://drishyamody.github.io/student2/images/decisionTree.png\" height=\"500\" width=\"1000\"> "
   ]
  }
 ],
 "metadata": {
  "kernelspec": {
   "display_name": "Python 3",
   "language": "python",
   "name": "python3"
  },
  "language_info": {
   "codemirror_mode": {
    "name": "ipython",
    "version": 3
   },
   "file_extension": ".py",
   "mimetype": "text/x-python",
   "name": "python",
   "nbconvert_exporter": "python",
   "pygments_lexer": "ipython3",
   "version": "3.11.4"
  }
 },
 "nbformat": 4,
 "nbformat_minor": 2
}
