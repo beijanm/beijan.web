{
 "cells": [
  {
   "cell_type": "markdown",
   "metadata": {},
   "source": [
    "---\n",
    "toc: true\n",
    "comments: false\n",
    "layout: post\n",
    "title: N@TM Issues\n",
    "type: hacks\n",
    "courses: { compsci: {week: 11} }\n",
    "---"
   ]
  },
  {
   "cell_type": "markdown",
   "metadata": {},
   "source": [
    "# Rent-A-Car\n",
    "[Issue 1](https://github.com/Swaggerplayer33/Flask-Server-Front-End/issues/12)\n",
    "\n",
    "# Calorie and Meal Plan Api\n",
    "[Issue 2](https://github.com/jaydenchen17/ppfrontend/issues/1)\n",
    "\n",
    "# Football API\n",
    "[Issue 3](https://github.com/Marcushe31/TeamTalk/issues/1)\n"
   ]
  }
 ],
 "metadata": {
  "language_info": {
   "name": "python"
  },
  "orig_nbformat": 4
 },
 "nbformat": 4,
 "nbformat_minor": 2
}
