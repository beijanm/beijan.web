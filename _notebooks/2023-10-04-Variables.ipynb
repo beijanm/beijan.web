{
 "cells": [
  {
   "cell_type": "markdown",
   "metadata": {},
   "source": [
    "# Variable"
   ]
  },
  {
   "cell_type": "code",
   "execution_count": 1,
   "metadata": {},
   "outputs": [
    {
     "name": "stdout",
     "output_type": "stream",
     "text": [
      "You are 16 years old.\n"
     ]
    }
   ],
   "source": [
    "age = 16\n",
    "print(\"You are \"+ str(age) +\" years old.\")"
   ]
  },
  {
   "cell_type": "markdown",
   "metadata": {},
   "source": [
    "# Data Types"
   ]
  },
  {
   "cell_type": "code",
   "execution_count": 2,
   "metadata": {},
   "outputs": [
    {
     "name": "stdout",
     "output_type": "stream",
     "text": [
      "16 is an integer\n",
      "False is a boolean\n",
      "Beijan is a string\n"
     ]
    }
   ],
   "source": [
    "age = 16\n",
    "isFalling = False\n",
    "firstName = \"Beijan\"\n",
    "print(str(age) + \" is an integer\")\n",
    "print(str(isFalling) + \" is a boolean\")\n",
    "print(firstName + \" is a string\")"
   ]
  },
  {
   "cell_type": "markdown",
   "metadata": {},
   "source": [
    "# Changeing Variables"
   ]
  },
  {
   "cell_type": "code",
   "execution_count": 6,
   "metadata": {},
   "outputs": [
    {
     "name": "stdout",
     "output_type": "stream",
     "text": [
      "10\n"
     ]
    }
   ],
   "source": [
    "var1 = 10\n",
    "var2 = var1\n",
    "var1 = 7\n",
    "print(str(var2))"
   ]
  },
  {
   "cell_type": "markdown",
   "metadata": {},
   "source": [
    "# Data Abstraction"
   ]
  },
  {
   "cell_type": "code",
   "execution_count": 8,
   "metadata": {},
   "outputs": [
    {
     "name": "stdout",
     "output_type": "stream",
     "text": [
      "Physics 1\n"
     ]
    }
   ],
   "source": [
    "schedule = [\"Engineering\", \"Physics 1\", \"Calculus\", \"Computer Science\"]\n",
    "print(schedule[1])"
   ]
  },
  {
   "cell_type": "markdown",
   "metadata": {},
   "source": [
    "# Hack 1"
   ]
  },
  {
   "cell_type": "code",
   "execution_count": 1,
   "metadata": {},
   "outputs": [
    {
     "name": "stdout",
     "output_type": "stream",
     "text": [
      "26\n",
      "['Nikki', 'Monika', 'Ankit', 'Varun']\n",
      "True\n",
      "Tesla\n"
     ]
    }
   ],
   "source": [
    "# Variable 1\n",
    "\n",
    "numStudents = 26\n",
    "print (numStudents)\n",
    "\n",
    "# Variable 2\n",
    "\n",
    "groupMates = [\"Nikki\", \"Monika\", \"Ankit\", \"Varun\"]\n",
    "print (groupMates)\n",
    "\n",
    "# Variable 3\n",
    "dogsbeatcats = True\n",
    "print (dogsbeatcats)\n",
    "\n",
    "# Variable 4\n",
    "\n",
    "car = \"Tesla\"\n",
    "print (car)\n"
   ]
  }
 ],
 "metadata": {
  "kernelspec": {
   "display_name": "Python 3",
   "language": "python",
   "name": "python3"
  },
  "language_info": {
   "codemirror_mode": {
    "name": "ipython",
    "version": 3
   },
   "file_extension": ".py",
   "mimetype": "text/x-python",
   "name": "python",
   "nbconvert_exporter": "python",
   "pygments_lexer": "ipython3",
   "version": "3.11.4"
  },
  "orig_nbformat": 4
 },
 "nbformat": 4,
 "nbformat_minor": 2
}
