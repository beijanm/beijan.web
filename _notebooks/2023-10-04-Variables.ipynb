{
 "cells": [
  {
   "cell_type": "markdown",
   "metadata": {},
   "source": [
    "---\n",
    "toc: true\n",
    "comments: false\n",
    "layout: post\n",
    "title: Variables Presentation\n",
    "type: hacks\n",
    "courses: { compsci: {week: 7} }\n",
    "---"
   ]
  },
  {
   "cell_type": "markdown",
   "metadata": {},
   "source": [
    "# Variable"
   ]
  },
  {
   "cell_type": "code",
   "execution_count": 1,
   "metadata": {},
   "outputs": [
    {
     "name": "stdout",
     "output_type": "stream",
     "text": [
      "You are 16 years old.\n"
     ]
    }
   ],
   "source": [
    "age = 16\n",
    "print(\"You are \"+ str(age) +\" years old.\")"
   ]
  },
  {
   "cell_type": "markdown",
   "metadata": {},
   "source": [
    "# Data Types"
   ]
  },
  {
   "cell_type": "code",
   "execution_count": 2,
   "metadata": {},
   "outputs": [
    {
     "name": "stdout",
     "output_type": "stream",
     "text": [
      "16 is an integer\n",
      "False is a boolean\n",
      "Beijan is a string\n"
     ]
    }
   ],
   "source": [
    "age = 16\n",
    "isFalling = False\n",
    "firstName = \"Beijan\"\n",
    "print(str(age) + \" is an integer\")\n",
    "print(str(isFalling) + \" is a boolean\")\n",
    "print(firstName + \" is a string\")"
   ]
  },
  {
   "cell_type": "markdown",
   "metadata": {},
   "source": [
    "# Changeing Variables"
   ]
  },
  {
   "cell_type": "code",
   "execution_count": 6,
   "metadata": {},
   "outputs": [
    {
     "name": "stdout",
     "output_type": "stream",
     "text": [
      "10\n"
     ]
    }
   ],
   "source": [
    "var1 = 10\n",
    "var2 = var1\n",
    "var1 = 7\n",
    "print(str(var2))"
   ]
  },
  {
   "cell_type": "markdown",
   "metadata": {},
   "source": [
    "# Data Abstraction"
   ]
  },
  {
   "cell_type": "code",
   "execution_count": 8,
   "metadata": {},
   "outputs": [
    {
     "name": "stdout",
     "output_type": "stream",
     "text": [
      "Physics 1\n"
     ]
    }
   ],
   "source": [
    "schedule = [\"Engineering\", \"Physics 1\", \"Calculus\", \"Computer Science\"]\n",
    "print(schedule[1])"
   ]
  },
  {
   "cell_type": "markdown",
   "metadata": {},
   "source": [
    "# Hack 1"
   ]
  },
  {
   "cell_type": "code",
   "execution_count": 6,
   "metadata": {},
   "outputs": [
    {
     "name": "stdout",
     "output_type": "stream",
     "text": [
      "26\n",
      "['Nikki', 'Monika', 'Ankit', 'Varun']\n",
      "True\n",
      "Tesla\n"
     ]
    }
   ],
   "source": [
    "# Variable 1: Integer\n",
    "\n",
    "numStudents = 26\n",
    "print (numStudents)\n",
    "\n",
    "# Variable 2: List\n",
    "\n",
    "groupMates = [\"Nikki\", \"Monika\", \"Ankit\", \"Varun\"]\n",
    "print (groupMates)\n",
    "\n",
    "# Variable 3: Boolean\n",
    "dogsbeatcats = True\n",
    "print (dogsbeatcats)\n",
    "\n",
    "# Variable 4: String\n",
    "\n",
    "car = \"Tesla\"\n",
    "print (car)\n"
   ]
  },
  {
   "cell_type": "markdown",
   "metadata": {},
   "source": [
    "# Hack 2"
   ]
  },
  {
   "cell_type": "code",
   "execution_count": 5,
   "metadata": {},
   "outputs": [
    {
     "name": "stdout",
     "output_type": "stream",
     "text": [
      "You are 16 years old.\n",
      "Physics 1\n",
      "An example of a boolean is, False\n",
      "Hello my name is Beijan\n",
      "<class 'list'>\n",
      "[15, 16, 17, 18]\n",
      "<class 'str'>\n"
     ]
    }
   ],
   "source": [
    "# Integer: a numerical value as a variable\n",
    "age = 16\n",
    "print(\"You are \"+ str(age) +\" years old.\")\n",
    "\n",
    "# List: a set of value in one variable\n",
    "schedule = [\"Engineering\", \"Physics 1\", \"Calculus\", \"Computer Science\"]\n",
    "print(schedule[1])\n",
    "\n",
    "# Boolean: a variable that represents a true or a False\n",
    "raining = False\n",
    "print(\"An example of a boolean is, \"+ str(raining))\n",
    "\n",
    "# String: a collection of characters in a variable\n",
    "name = \"Beijan\"\n",
    "print(\"Hello my name is \"+ name)\n",
    "\n",
    "# List with JSON\n",
    "import json\n",
    "ages = [15,16,17,18]\n",
    "#print shows what kind of variable ages is\n",
    "print(type(ages))\n",
    "#json.dumps turn integers into strings in lists to be able to print them out\n",
    "ages = json.dumps(ages)\n",
    "print(ages)\n",
    "print(type(ages))\n"
   ]
  }
 ],
 "metadata": {
  "kernelspec": {
   "display_name": "Python 3",
   "language": "python",
   "name": "python3"
  },
  "language_info": {
   "codemirror_mode": {
    "name": "ipython",
    "version": 3
   },
   "file_extension": ".py",
   "mimetype": "text/x-python",
   "name": "python",
   "nbconvert_exporter": "python",
   "pygments_lexer": "ipython3",
   "version": "3.11.4"
  },
  "orig_nbformat": 4
 },
 "nbformat": 4,
 "nbformat_minor": 2
}
